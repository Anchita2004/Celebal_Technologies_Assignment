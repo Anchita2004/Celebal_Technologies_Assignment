{
  "nbformat": 4,
  "nbformat_minor": 0,
  "metadata": {
    "colab": {
      "provenance": [],
      "authorship_tag": "ABX9TyNu7cUAMfkwpx1s+Av/g0na",
      "include_colab_link": true
    },
    "kernelspec": {
      "name": "python3",
      "display_name": "Python 3"
    },
    "language_info": {
      "name": "python"
    }
  },
  "cells": [
    {
      "cell_type": "markdown",
      "metadata": {
        "id": "view-in-github",
        "colab_type": "text"
      },
      "source": [
        "<a href=\"https://colab.research.google.com/github/Anchita2004/Celebal_Technologies_Assignment/blob/main/Celebal_Assignment1.ipynb\" target=\"_parent\"><img src=\"https://colab.research.google.com/assets/colab-badge.svg\" alt=\"Open In Colab\"/></a>"
      ]
    },
    {
      "cell_type": "markdown",
      "source": [
        "**Create lower triangular, upper triangular and pyramid containing the \"*\" character.**"
      ],
      "metadata": {
        "id": "O04GFRGkUxsG"
      }
    },
    {
      "cell_type": "code",
      "source": [
        "n=int(input(\"Enter the number of rows:\"))"
      ],
      "metadata": {
        "colab": {
          "base_uri": "https://localhost:8080/"
        },
        "id": "WnYQ0we-U2Sh",
        "outputId": "f73c8f3f-390a-4627-d26c-6488cfb81cec"
      },
      "execution_count": null,
      "outputs": [
        {
          "name": "stdout",
          "output_type": "stream",
          "text": [
            "Enter the number of rows:5\n"
          ]
        }
      ]
    },
    {
      "cell_type": "code",
      "source": [
        "#Lower triangular pattern\n",
        "print(\"The lower triangular pattern is:\")\n",
        "for i in range(1,n+1):\n",
        "  print(\"*\"*i)"
      ],
      "metadata": {
        "colab": {
          "base_uri": "https://localhost:8080/"
        },
        "id": "KdT4A2sxU6Yc",
        "outputId": "f0b68e31-dab7-48ac-9f26-cf254aa4f86e"
      },
      "execution_count": null,
      "outputs": [
        {
          "output_type": "stream",
          "name": "stdout",
          "text": [
            "The lower triangular pattern is:\n",
            "*\n",
            "**\n",
            "***\n",
            "****\n",
            "*****\n"
          ]
        }
      ]
    },
    {
      "cell_type": "code",
      "source": [
        "#Upper triangular pattern\n",
        "print(\"The upper triangular pattern is:\")\n",
        "for i in range(n,0,-1):\n",
        "  print(\"*\"*i)"
      ],
      "metadata": {
        "colab": {
          "base_uri": "https://localhost:8080/"
        },
        "id": "pgceNkcXVZ7c",
        "outputId": "3f105f61-f8f4-444a-f915-1a70f67f5b0b"
      },
      "execution_count": null,
      "outputs": [
        {
          "output_type": "stream",
          "name": "stdout",
          "text": [
            "The upper triangular pattern is:\n",
            "*****\n",
            "****\n",
            "***\n",
            "**\n",
            "*\n"
          ]
        }
      ]
    },
    {
      "cell_type": "code",
      "source": [
        "#Pyramid Pattern\n",
        "print(\"The pyramid pattern is:\")\n",
        "for i in range(1, n + 1):\n",
        "    print(\" \" * (n - i) + \"*\" * (2 * i - 1))"
      ],
      "metadata": {
        "colab": {
          "base_uri": "https://localhost:8080/"
        },
        "id": "SHPlQugtVzxn",
        "outputId": "a4f4b632-5f8d-4246-e3c4-efb7e9454399"
      },
      "execution_count": null,
      "outputs": [
        {
          "output_type": "stream",
          "name": "stdout",
          "text": [
            "The pyramid pattern is:\n",
            "    *\n",
            "   ***\n",
            "  *****\n",
            " *******\n",
            "*********\n"
          ]
        }
      ]
    }
  ]
}